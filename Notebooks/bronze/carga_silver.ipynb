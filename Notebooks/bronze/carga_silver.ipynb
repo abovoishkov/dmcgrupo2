{
 "cells": [
  {
   "cell_type": "code",
   "execution_count": 0,
   "metadata": {
    "application/vnd.databricks.v1+cell": {
     "cellMetadata": {
      "byteLimit": 2048000,
      "rowLimit": 10000
     },
     "inputWidgets": {},
     "nuid": "0c48c2f6-f6dc-4f0a-9340-91d71edd9f07",
     "showTitle": false,
     "tableResultSettingsMap": {},
     "title": ""
    }
   },
   "outputs": [],
   "source": [
    "from pyspark.sql.functions import current_timestamp\n"
   ]
  },
  {
   "cell_type": "code",
   "execution_count": 0,
   "metadata": {
    "application/vnd.databricks.v1+cell": {
     "cellMetadata": {
      "byteLimit": 2048000,
      "rowLimit": 10000
     },
     "inputWidgets": {},
     "nuid": "df1557b1-9049-4d26-b110-57f11bac7c36",
     "showTitle": false,
     "tableResultSettingsMap": {
      "0": {
       "dataGridStateBlob": "{\"version\":1,\"tableState\":{\"columnPinning\":{\"left\":[\"#row_number#\"],\"right\":[]},\"columnSizing\":{\"path\":671},\"columnVisibility\":{}},\"settings\":{\"columns\":{}},\"syncTimestamp\":1754846492354}",
       "filterBlob": null,
       "queryPlanFiltersBlob": null,
       "tableResultIndex": 0
      }
     },
     "title": ""
    }
   },
   "outputs": [],
   "source": [
    "# ABFS (Azure Blob File System) driver format\n",
    "path = \"abfss://bronze@datapractica.dfs.core.windows.net/\"\n",
    "\n",
    "# Example operations:\n",
    "# List files\n",
    "display(dbutils.fs.ls(f'{path}'))"
   ]
  },
  {
   "cell_type": "markdown",
   "metadata": {
    "application/vnd.databricks.v1+cell": {
     "cellMetadata": {},
     "inputWidgets": {},
     "nuid": "38934e7d-5ebb-4322-8f2c-549faf729cb1",
     "showTitle": false,
     "tableResultSettingsMap": {},
     "title": ""
    }
   },
   "source": [
    "# carga SMARTCAB"
   ]
  },
  {
   "cell_type": "code",
   "execution_count": 0,
   "metadata": {
    "application/vnd.databricks.v1+cell": {
     "cellMetadata": {
      "byteLimit": 2048000,
      "rowLimit": 10000
     },
     "inputWidgets": {},
     "nuid": "37de8abf-2be4-466d-86e2-bef1d197109d",
     "showTitle": false,
     "tableResultSettingsMap": {},
     "title": ""
    }
   },
   "outputs": [],
   "source": [
    "df_SMARTCAB = spark.read.format(\"parquet\").load(f'{path}SMARTCAB/dbo.SMARTCAB.parquet')\n",
    "display(df_SMARTCAB)"
   ]
  },
  {
   "cell_type": "code",
   "execution_count": 0,
   "metadata": {
    "application/vnd.databricks.v1+cell": {
     "cellMetadata": {
      "byteLimit": 2048000,
      "rowLimit": 10000
     },
     "inputWidgets": {},
     "nuid": "1e9a0ebc-044f-4139-b94f-980bc4386604",
     "showTitle": false,
     "tableResultSettingsMap": {},
     "title": ""
    }
   },
   "outputs": [],
   "source": [
    "# Define the external path\n",
    "external_path = \"abfss://silver@datapractica.dfs.core.windows.net/\"\n"
   ]
  },
  {
   "cell_type": "code",
   "execution_count": 0,
   "metadata": {
    "application/vnd.databricks.v1+cell": {
     "cellMetadata": {
      "byteLimit": 2048000,
      "rowLimit": 10000
     },
     "inputWidgets": {},
     "nuid": "a4d28d92-68f3-434e-ba05-0eec32f23cd5",
     "showTitle": false,
     "tableResultSettingsMap": {},
     "title": ""
    }
   },
   "outputs": [],
   "source": [
    "\n",
    "df_SMARTCAB = df_SMARTCAB.withColumn(\"CreatedDate\", current_timestamp())\n",
    "\n",
    "# Write the DataFrame as an external Delta table\n",
    "df_SMARTCAB.write \\\n",
    "    .format(\"delta\") \\\n",
    "    .mode(\"overwrite\") \\\n",
    "    .option(\"path\", f'{external_path}/SMARTCAB') \\\n",
    "    .option(\"mergeSchema\", \"true\") \\\n",
    "    .saveAsTable(\"silver.silver_SMARTCAB\")"
   ]
  },
  {
   "cell_type": "code",
   "execution_count": 0,
   "metadata": {
    "application/vnd.databricks.v1+cell": {
     "cellMetadata": {
      "byteLimit": 2048000,
      "rowLimit": 10000
     },
     "inputWidgets": {},
     "nuid": "8690c7ba-bbea-4d32-b183-599d910b4abe",
     "showTitle": false,
     "tableResultSettingsMap": {},
     "title": ""
    }
   },
   "outputs": [],
   "source": [
    "df_CRAFTECH_TAXI365 = spark.read.format(\"parquet\").load(f'{path}CRAFTECH_TAXI365/*')\n",
    "display(df_CRAFTECH_TAXI365)"
   ]
  },
  {
   "cell_type": "code",
   "execution_count": 0,
   "metadata": {
    "application/vnd.databricks.v1+cell": {
     "cellMetadata": {
      "byteLimit": 2048000,
      "rowLimit": 10000
     },
     "inputWidgets": {},
     "nuid": "5979257b-eb6c-43ff-98cb-d0b1d94222fd",
     "showTitle": false,
     "tableResultSettingsMap": {},
     "title": ""
    }
   },
   "outputs": [],
   "source": [
    "\n",
    "\n",
    "\n",
    "df_CRAFTECH_TAXI365 = df_CRAFTECH_TAXI365.withColumn(\"CreatedDate\", current_timestamp())\n",
    "\n",
    "# Write the DataFrame as an external Delta table\n",
    "df_CRAFTECH_TAXI365.write \\\n",
    "    .format(\"delta\") \\\n",
    "    .mode(\"overwrite\") \\\n",
    "    .option(\"path\", f'{external_path}/CRAFTECH_TAXI365') \\\n",
    "    .option(\"mergeSchema\", \"true\") \\\n",
    "    .saveAsTable(\"silver.CRAFTECH_TAXI365\")"
   ]
  },
  {
   "cell_type": "code",
   "execution_count": 0,
   "metadata": {
    "application/vnd.databricks.v1+cell": {
     "cellMetadata": {
      "byteLimit": 2048000,
      "rowLimit": 10000
     },
     "inputWidgets": {},
     "nuid": "bce2f194-07cb-432a-9e36-119444debdef",
     "showTitle": false,
     "tableResultSettingsMap": {},
     "title": ""
    }
   },
   "outputs": [],
   "source": [
    "df_CRAFTECH_CMV = spark.read.format(\"parquet\").load(f'{path}CRAFTECH_CMV/')\n",
    "display(df_CRAFTECH_CMV)"
   ]
  },
  {
   "cell_type": "code",
   "execution_count": 0,
   "metadata": {
    "application/vnd.databricks.v1+cell": {
     "cellMetadata": {
      "byteLimit": 2048000,
      "rowLimit": 10000
     },
     "inputWidgets": {},
     "nuid": "c7d4c358-80c5-4da1-9f07-47b81c4204d8",
     "showTitle": false,
     "tableResultSettingsMap": {},
     "title": ""
    }
   },
   "outputs": [],
   "source": [
    "df_CRAFTECH_CMV = df_CRAFTECH_CMV.withColumn(\"CreatedDate\", current_timestamp())\n",
    "\n",
    "# Write the DataFrame as an external Delta table\n",
    "df_CRAFTECH_CMV.write \\\n",
    "    .format(\"delta\") \\\n",
    "    .mode(\"overwrite\") \\\n",
    "    .option(\"path\", f'{external_path}/CRAFTECH_') \\\n",
    "    .option(\"mergeSchema\", \"true\") \\\n",
    "    .saveAsTable(\"silver.CRAFTECH_CMV\")"
   ]
  },
  {
   "cell_type": "code",
   "execution_count": 0,
   "metadata": {
    "application/vnd.databricks.v1+cell": {
     "cellMetadata": {
      "byteLimit": 2048000,
      "rowLimit": 10000
     },
     "inputWidgets": {},
     "nuid": "f007ce0d-1b11-4c41-8980-d9800b225485",
     "showTitle": false,
     "tableResultSettingsMap": {},
     "title": ""
    }
   },
   "outputs": [],
   "source": [
    "df_CONTROL_TIEMPO_AEROPUERTO = spark.read.format(\"parquet\").load(f'{path}CONTROL_TIEMPO_AEROPUERTO/')\n",
    "display(df_CONTROL_TIEMPO_AEROPUERTO)"
   ]
  },
  {
   "cell_type": "code",
   "execution_count": 0,
   "metadata": {
    "application/vnd.databricks.v1+cell": {
     "cellMetadata": {
      "byteLimit": 2048000,
      "rowLimit": 10000
     },
     "inputWidgets": {},
     "nuid": "8494e450-a678-4bd6-b07e-48550b897e17",
     "showTitle": false,
     "tableResultSettingsMap": {},
     "title": ""
    }
   },
   "outputs": [],
   "source": [
    "df_CONTROL_TIEMPO_AEROPUERTO = df_CONTROL_TIEMPO_AEROPUERTO.withColumn(\"CreatedDate\", current_timestamp())\n",
    "\n",
    "# Write the DataFrame as an external Delta table\n",
    "df_CONTROL_TIEMPO_AEROPUERTO.write \\\n",
    "    .format(\"delta\") \\\n",
    "    .mode(\"overwrite\") \\\n",
    "    .option(\"path\", f'{external_path}/CONTROL_TIEMPO_AEROPUERTO') \\\n",
    "    .option(\"mergeSchema\", \"true\") \\\n",
    "    .saveAsTable(\"silver.CONTROL_TIEMPO_AEROPUERTO\")"
   ]
  },
  {
   "cell_type": "code",
   "execution_count": 0,
   "metadata": {
    "application/vnd.databricks.v1+cell": {
     "cellMetadata": {
      "byteLimit": 2048000,
      "rowLimit": 10000
     },
     "inputWidgets": {},
     "nuid": "610579f9-cfc0-42e5-a16f-83b71ed1826e",
     "showTitle": false,
     "tableResultSettingsMap": {},
     "title": ""
    }
   },
   "outputs": [],
   "source": [
    "df_CLIENTES = spark.read.format(\"parquet\").load(f'{path}/Clientes_Empresa/')\n",
    "display(df_CLIENTES)"
   ]
  },
  {
   "cell_type": "code",
   "execution_count": 0,
   "metadata": {
    "application/vnd.databricks.v1+cell": {
     "cellMetadata": {
      "byteLimit": 2048000,
      "rowLimit": 10000
     },
     "inputWidgets": {},
     "nuid": "3c8cbfaa-19c8-40de-8937-ce19b6c726db",
     "showTitle": false,
     "tableResultSettingsMap": {},
     "title": ""
    }
   },
   "outputs": [],
   "source": [
    "# Write the DataFrame as an external Delta table\n",
    "df_CLIENTES = df_CLIENTES.withColumn(\"CreatedDate\", current_timestamp())\n",
    "\n",
    "df_CLIENTES.write \\\n",
    "    .format(\"delta\") \\\n",
    "    .mode(\"overwrite\") \\\n",
    ".save(f'{external_path}/CLIENTES')"
   ]
  },
  {
   "cell_type": "code",
   "execution_count": 0,
   "metadata": {
    "application/vnd.databricks.v1+cell": {
     "cellMetadata": {
      "byteLimit": 2048000,
      "rowLimit": 10000
     },
     "inputWidgets": {},
     "nuid": "b344b15f-0d39-452a-b1aa-9828d7ac8e85",
     "showTitle": false,
     "tableResultSettingsMap": {},
     "title": ""
    }
   },
   "outputs": [],
   "source": [
    "df_Vehiculos = spark.read.format(\"parquet\").load(f'{path}/Vehiculos/')\n",
    "display(df_Vehiculos)"
   ]
  },
  {
   "cell_type": "code",
   "execution_count": 0,
   "metadata": {
    "application/vnd.databricks.v1+cell": {
     "cellMetadata": {
      "byteLimit": 2048000,
      "rowLimit": 10000
     },
     "inputWidgets": {},
     "nuid": "041dd365-23cb-40d2-9aa2-ce1a472d11d0",
     "showTitle": false,
     "tableResultSettingsMap": {},
     "title": ""
    }
   },
   "outputs": [],
   "source": [
    "# Write the DataFrame as an external Delta table\n",
    "df_Vehiculos = df_Vehiculos.withColumn(\"CreatedDate\", current_timestamp())\n",
    "\n",
    "df_Vehiculos.write \\\n",
    "    .format(\"delta\") \\\n",
    "    .mode(\"overwrite\") \\\n",
    ".save(f'{external_path}/Vehiculos')"
   ]
  }
 ],
 "metadata": {
  "application/vnd.databricks.v1+notebook": {
   "computePreferences": null,
   "dashboards": [],
   "environmentMetadata": {
    "base_environment": "",
    "environment_version": "2"
   },
   "inputWidgetPreferences": null,
   "language": "python",
   "notebookMetadata": {
    "mostRecentlyExecutedCommandWithImplicitDF": {
     "commandId": 6365637995854064,
     "dataframes": [
      "_sqldf"
     ]
    },
    "pythonIndentUnit": 4
   },
   "notebookName": "carga_silver",
   "widgets": {}
  },
  "language_info": {
   "name": "python"
  }
 },
 "nbformat": 4,
 "nbformat_minor": 0
}
